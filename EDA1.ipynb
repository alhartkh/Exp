{
 "cells": [
  {
   "cell_type": "code",
<<<<<<< HEAD
   "execution_count": 82,
=======
   "execution_count": 1,
>>>>>>> 2d37f61095f8fb9cfe8f44bba265d429c219add6
   "metadata": {},
   "outputs": [],
   "source": [
    "import numpy as np\n",
    "import pandas as pd\n",
    "import matplotlib.pyplot as plt\n",
    "import seaborn as sns"
   ]
  },
  {
<<<<<<< HEAD
=======
   "cell_type": "code",
   "execution_count": 2,
   "metadata": {},
   "outputs": [],
   "source": [
    "df = pd.read_excel('flights.xlsx')\n"
   ]
  },
  {
   "cell_type": "code",
   "execution_count": 3,
   "metadata": {},
   "outputs": [
    {
     "data": {
      "text/html": [
       "<div>\n",
       "<style scoped>\n",
       "    .dataframe tbody tr th:only-of-type {\n",
       "        vertical-align: middle;\n",
       "    }\n",
       "\n",
       "    .dataframe tbody tr th {\n",
       "        vertical-align: top;\n",
       "    }\n",
       "\n",
       "    .dataframe thead th {\n",
       "        text-align: right;\n",
       "    }\n",
       "</style>\n",
       "<table border=\"1\" class=\"dataframe\">\n",
       "  <thead>\n",
       "    <tr style=\"text-align: right;\">\n",
       "      <th></th>\n",
       "      <th>Airline</th>\n",
       "      <th>Date_of_Journey</th>\n",
       "      <th>Source</th>\n",
       "      <th>Destination</th>\n",
       "      <th>Route</th>\n",
       "      <th>Dep_Time</th>\n",
       "      <th>Arrival_Time</th>\n",
       "      <th>Duration</th>\n",
       "      <th>Total_Stops</th>\n",
       "      <th>Additional Info</th>\n",
       "      <th>Price</th>\n",
       "    </tr>\n",
       "  </thead>\n",
       "  <tbody>\n",
       "    <tr>\n",
       "      <th>0</th>\n",
       "      <td>IndiGo</td>\n",
       "      <td>24/03/2019</td>\n",
       "      <td>Banglore</td>\n",
       "      <td>New Delhi</td>\n",
       "      <td>BLR → DEL</td>\n",
       "      <td>22:20</td>\n",
       "      <td>01:10 22 Mar</td>\n",
       "      <td>2h 50m</td>\n",
       "      <td>non-stop</td>\n",
       "      <td>No info</td>\n",
       "      <td>3898</td>\n",
       "    </tr>\n",
       "    <tr>\n",
       "      <th>1</th>\n",
       "      <td>Air India</td>\n",
       "      <td>1/05/2019</td>\n",
       "      <td>Kolkata</td>\n",
       "      <td>Banglore</td>\n",
       "      <td>CCU → IXR → BBI → BLR</td>\n",
       "      <td>05:50</td>\n",
       "      <td>13:15</td>\n",
       "      <td>7h 25m</td>\n",
       "      <td>2 stops</td>\n",
       "      <td>No info</td>\n",
       "      <td>7663</td>\n",
       "    </tr>\n",
       "    <tr>\n",
       "      <th>2</th>\n",
       "      <td>Jet Airways</td>\n",
       "      <td>9/06/2019</td>\n",
       "      <td>Delhi</td>\n",
       "      <td>Cochin</td>\n",
       "      <td>DEL → LKO → BOM → COK</td>\n",
       "      <td>09:25</td>\n",
       "      <td>04:25 10 Jun</td>\n",
       "      <td>19h</td>\n",
       "      <td>2 stops</td>\n",
       "      <td>No info</td>\n",
       "      <td>13883</td>\n",
       "    </tr>\n",
       "    <tr>\n",
       "      <th>3</th>\n",
       "      <td>IndiGo</td>\n",
       "      <td>12/05/2019</td>\n",
       "      <td>Kolkata</td>\n",
       "      <td>Banglore</td>\n",
       "      <td>CCU → NAG → BLR</td>\n",
       "      <td>18:05</td>\n",
       "      <td>23:30</td>\n",
       "      <td>5h 25m</td>\n",
       "      <td>1 stop</td>\n",
       "      <td>No info</td>\n",
       "      <td>6219</td>\n",
       "    </tr>\n",
       "    <tr>\n",
       "      <th>4</th>\n",
       "      <td>IndiGo</td>\n",
       "      <td>01/03/2019</td>\n",
       "      <td>Banglore</td>\n",
       "      <td>New Delhi</td>\n",
       "      <td>BLR → NAG → DEL</td>\n",
       "      <td>16:50</td>\n",
       "      <td>21:35</td>\n",
       "      <td>4h 45m</td>\n",
       "      <td>1 stop</td>\n",
       "      <td>No info</td>\n",
       "      <td>13303</td>\n",
       "    </tr>\n",
       "  </tbody>\n",
       "</table>\n",
       "</div>"
      ],
      "text/plain": [
       "       Airline Date_of_Journey    Source Destination                  Route  \\\n",
       "0       IndiGo      24/03/2019  Banglore   New Delhi              BLR → DEL   \n",
       "1    Air India       1/05/2019   Kolkata    Banglore  CCU → IXR → BBI → BLR   \n",
       "2  Jet Airways       9/06/2019     Delhi      Cochin  DEL → LKO → BOM → COK   \n",
       "3       IndiGo      12/05/2019   Kolkata    Banglore        CCU → NAG → BLR   \n",
       "4       IndiGo      01/03/2019  Banglore   New Delhi        BLR → NAG → DEL   \n",
       "\n",
       "  Dep_Time  Arrival_Time Duration Total_Stops Additional Info  Price  \n",
       "0    22:20  01:10 22 Mar   2h 50m    non-stop         No info   3898  \n",
       "1    05:50         13:15   7h 25m     2 stops         No info   7663  \n",
       "2    09:25  04:25 10 Jun      19h     2 stops         No info  13883  \n",
       "3    18:05         23:30   5h 25m      1 stop         No info   6219  \n",
       "4    16:50         21:35   4h 45m      1 stop         No info  13303  "
      ]
     },
     "execution_count": 3,
     "metadata": {},
     "output_type": "execute_result"
    }
   ],
   "source": [
    "df.head()"
   ]
  },
  {
   "cell_type": "code",
   "execution_count": 4,
   "metadata": {},
   "outputs": [
    {
     "data": {
      "text/plain": [
       "(10683, 11)"
      ]
     },
     "execution_count": 4,
     "metadata": {},
     "output_type": "execute_result"
    }
   ],
   "source": [
    "df.shape"
   ]
  },
  {
   "cell_type": "code",
   "execution_count": 5,
   "metadata": {},
   "outputs": [
    {
     "data": {
      "text/plain": [
       "Index(['Airline', 'Date_of_Journey', 'Source', 'Destination', 'Route',\n",
       "       'Dep_Time', 'Arrival_Time', 'Duration', 'Total_Stops',\n",
       "       'Additional Info', 'Price'],\n",
       "      dtype='object')"
      ]
     },
     "execution_count": 5,
     "metadata": {},
     "output_type": "execute_result"
    }
   ],
   "source": [
    "df.columns"
   ]
  },
  {
   "cell_type": "code",
   "execution_count": 6,
   "metadata": {},
   "outputs": [
    {
     "name": "stdout",
     "output_type": "stream",
     "text": [
      "<class 'pandas.core.frame.DataFrame'>\n",
      "RangeIndex: 10683 entries, 0 to 10682\n",
      "Data columns (total 11 columns):\n",
      " #   Column           Non-Null Count  Dtype \n",
      "---  ------           --------------  ----- \n",
      " 0   Airline          10683 non-null  object\n",
      " 1   Date_of_Journey  10683 non-null  object\n",
      " 2   Source           10683 non-null  object\n",
      " 3   Destination      10683 non-null  object\n",
      " 4   Route            10682 non-null  object\n",
      " 5   Dep_Time         10683 non-null  object\n",
      " 6   Arrival_Time     10683 non-null  object\n",
      " 7   Duration         10683 non-null  object\n",
      " 8   Total_Stops      10682 non-null  object\n",
      " 9   Additional Info  10683 non-null  object\n",
      " 10  Price            10683 non-null  int64 \n",
      "dtypes: int64(1), object(10)\n",
      "memory usage: 918.2+ KB\n"
     ]
    }
   ],
   "source": [
    "df.info()"
   ]
  },
  {
   "cell_type": "markdown",
   "metadata": {},
   "source": [
    "**Convert dtype of Date_of_Journay, Dep_Time and Arrival_Time to DateTime type**"
   ]
  },
  {
   "cell_type": "code",
   "execution_count": 7,
   "metadata": {},
   "outputs": [],
   "source": [
    "###convert time to DateTime type\n",
    "df['Date_of_Journey']=pd.to_datetime(df['Date_of_Journey'])\n",
    "df['Dep_Time']=pd.to_datetime(df['Dep_Time'])\n",
    "df['Arrival_Time']=pd.to_datetime(df['Arrival_Time'])"
   ]
  },
  {
   "cell_type": "code",
   "execution_count": 8,
   "metadata": {},
   "outputs": [
    {
     "name": "stdout",
     "output_type": "stream",
     "text": [
      "<class 'pandas.core.frame.DataFrame'>\n",
      "RangeIndex: 10683 entries, 0 to 10682\n",
      "Data columns (total 11 columns):\n",
      " #   Column           Non-Null Count  Dtype         \n",
      "---  ------           --------------  -----         \n",
      " 0   Airline          10683 non-null  object        \n",
      " 1   Date_of_Journey  10683 non-null  datetime64[ns]\n",
      " 2   Source           10683 non-null  object        \n",
      " 3   Destination      10683 non-null  object        \n",
      " 4   Route            10682 non-null  object        \n",
      " 5   Dep_Time         10683 non-null  datetime64[ns]\n",
      " 6   Arrival_Time     10683 non-null  datetime64[ns]\n",
      " 7   Duration         10683 non-null  object        \n",
      " 8   Total_Stops      10682 non-null  object        \n",
      " 9   Additional Info  10683 non-null  object        \n",
      " 10  Price            10683 non-null  int64         \n",
      "dtypes: datetime64[ns](3), int64(1), object(7)\n",
      "memory usage: 918.2+ KB\n"
     ]
    }
   ],
   "source": [
    "df.info()"
   ]
  },
  {
   "cell_type": "code",
   "execution_count": 9,
   "metadata": {},
   "outputs": [],
   "source": [
    "#divide years, months, days of datetime dtype\n",
    "df['journey_year']=df['Date_of_Journey'].dt.year\n",
    "df['journey_month']=df['Date_of_Journey'].dt.month\n",
    "df['journey_day']=df['Date_of_Journey'].dt.day"
   ]
  },
  {
   "cell_type": "code",
   "execution_count": 10,
   "metadata": {},
   "outputs": [],
   "source": [
    "#drop Date_of_Journey\n",
    "df.drop(['Date_of_Journey'], axis=1, inplace=True)"
   ]
  },
  {
   "cell_type": "code",
   "execution_count": 11,
   "metadata": {},
   "outputs": [],
   "source": [
    "#divide dep_time to two columns: hr and min \n",
    "df['dep_hour']=df['Dep_Time'].dt.hour\n",
    "df['dep_min']=df['Dep_Time'].dt.minute"
   ]
  },
  {
   "cell_type": "code",
   "execution_count": 12,
   "metadata": {},
   "outputs": [],
   "source": [
    "#drop Dep_time\n",
    "df.drop(['Dep_Time'], axis=1, inplace=True)"
   ]
  },
  {
   "cell_type": "code",
   "execution_count": 13,
   "metadata": {},
   "outputs": [],
   "source": [
    "###devide arrival date\n",
    "df['arrival_year']=df['Arrival_Time'].dt.year\n",
    "df['arrival_month']=df['Arrival_Time'].dt.month\n",
    "df['arrival_day']=df['Arrival_Time'].dt.day"
   ]
  },
  {
   "cell_type": "code",
   "execution_count": 14,
   "metadata": {},
   "outputs": [],
   "source": [
    "##devide arrival time \n",
    "df['arrival_hour']=df['Arrival_Time'].dt.hour\n",
    "df['arrival_min']=df['Arrival_Time'].dt.minute"
   ]
  },
  {
   "cell_type": "code",
   "execution_count": 15,
   "metadata": {},
   "outputs": [],
   "source": [
    "#drop Arrival_Time\n",
    "df.drop(['Arrival_Time'], axis=1, inplace=True)"
   ]
  },
  {
   "cell_type": "code",
   "execution_count": 16,
   "metadata": {},
   "outputs": [],
   "source": [
    "#divide Duration to two columns: hours and mins\n",
    "duration = list(df[\"Duration\"]) #list Duration so we can spply split() and referencec it \n",
    "duration_hours = [] #create empty lists to append later with values from Duration\n",
    "duration_mins = []\n",
    "\n",
    "\n",
    "\n",
    "for i in range(len(duration)):\n",
    "    duration_hours.append(duration[i].split(sep = \"h\")[0])\n",
    "    duration_mins.append(duration[i].split(sep = \"m\")[0].split()[-1])"
   ]
  },
  {
   "cell_type": "code",
   "execution_count": 17,
   "metadata": {},
   "outputs": [],
   "source": [
    "#adding duration_hours and duration_mins to df\n",
    "df['duration_hours']=duration_hours\n",
    "df['duration_mins']=duration_mins"
   ]
  },
  {
   "cell_type": "code",
   "execution_count": 101,
   "metadata": {},
   "outputs": [],
   "source": [
    "#drop Duration\n",
    "df.drop(['Duration'], axis=1, inplace=True)"
   ]
  },
  {
   "cell_type": "code",
   "execution_count": 102,
   "metadata": {},
   "outputs": [
    {
     "name": "stdout",
     "output_type": "stream",
     "text": [
      "<class 'pandas.core.frame.DataFrame'>\n",
      "RangeIndex: 10683 entries, 0 to 10682\n",
      "Data columns (total 19 columns):\n",
      " #   Column           Non-Null Count  Dtype \n",
      "---  ------           --------------  ----- \n",
      " 0   Airline          10683 non-null  object\n",
      " 1   Source           10683 non-null  object\n",
      " 2   Destination      10683 non-null  object\n",
      " 3   Route            10682 non-null  object\n",
      " 4   Total_Stops      10682 non-null  object\n",
      " 5   Additional Info  10683 non-null  object\n",
      " 6   Price            10683 non-null  int64 \n",
      " 7   journey_year     10683 non-null  int64 \n",
      " 8   journey_month    10683 non-null  int64 \n",
      " 9   journey_day      10683 non-null  int64 \n",
      " 10  dep_hour         10683 non-null  int64 \n",
      " 11  dep_min          10683 non-null  int64 \n",
      " 12  arrival_year     10683 non-null  int64 \n",
      " 13  arrival_month    10683 non-null  int64 \n",
      " 14  arrival_day      10683 non-null  int64 \n",
      " 15  arrival_hour     10683 non-null  int64 \n",
      " 16  arrival_min      10683 non-null  int64 \n",
      " 17  duration_hours   10683 non-null  object\n",
      " 18  duration_mins    10683 non-null  object\n",
      "dtypes: int64(11), object(8)\n",
      "memory usage: 1.5+ MB\n"
     ]
    }
   ],
   "source": [
    "df.info()"
   ]
  },
  {
   "cell_type": "markdown",
   "metadata": {},
   "source": [
    "**Handling null values**"
   ]
  },
  {
   "cell_type": "code",
   "execution_count": 103,
   "metadata": {},
   "outputs": [
    {
     "data": {
      "text/plain": [
       "Airline            0\n",
       "Source             0\n",
       "Destination        0\n",
       "Route              1\n",
       "Total_Stops        1\n",
       "Additional Info    0\n",
       "Price              0\n",
       "journey_year       0\n",
       "journey_month      0\n",
       "journey_day        0\n",
       "dep_hour           0\n",
       "dep_min            0\n",
       "arrival_year       0\n",
       "arrival_month      0\n",
       "arrival_day        0\n",
       "arrival_hour       0\n",
       "arrival_min        0\n",
       "duration_hours     0\n",
       "duration_mins      0\n",
       "dtype: int64"
      ]
     },
     "execution_count": 103,
     "metadata": {},
     "output_type": "execute_result"
    }
   ],
   "source": [
    "#check for null values\n",
    "df.isnull().sum()"
   ]
  },
  {
   "cell_type": "code",
   "execution_count": 104,
   "metadata": {},
   "outputs": [
    {
     "data": {
      "text/html": [
       "<div>\n",
       "<style scoped>\n",
       "    .dataframe tbody tr th:only-of-type {\n",
       "        vertical-align: middle;\n",
       "    }\n",
       "\n",
       "    .dataframe tbody tr th {\n",
       "        vertical-align: top;\n",
       "    }\n",
       "\n",
       "    .dataframe thead th {\n",
       "        text-align: right;\n",
       "    }\n",
       "</style>\n",
       "<table border=\"1\" class=\"dataframe\">\n",
       "  <thead>\n",
       "    <tr style=\"text-align: right;\">\n",
       "      <th></th>\n",
       "      <th>Airline</th>\n",
       "      <th>Source</th>\n",
       "      <th>Destination</th>\n",
       "      <th>Route</th>\n",
       "      <th>Total_Stops</th>\n",
       "      <th>Additional Info</th>\n",
       "      <th>Price</th>\n",
       "      <th>journey_year</th>\n",
       "      <th>journey_month</th>\n",
       "      <th>journey_day</th>\n",
       "      <th>dep_hour</th>\n",
       "      <th>dep_min</th>\n",
       "      <th>arrival_year</th>\n",
       "      <th>arrival_month</th>\n",
       "      <th>arrival_day</th>\n",
       "      <th>arrival_hour</th>\n",
       "      <th>arrival_min</th>\n",
       "      <th>duration_hours</th>\n",
       "      <th>duration_mins</th>\n",
       "    </tr>\n",
       "  </thead>\n",
       "  <tbody>\n",
       "    <tr>\n",
       "      <th>9039</th>\n",
       "      <td>Air India</td>\n",
       "      <td>Delhi</td>\n",
       "      <td>Cochin</td>\n",
       "      <td>NaN</td>\n",
       "      <td>NaN</td>\n",
       "      <td>No info</td>\n",
       "      <td>7481</td>\n",
       "      <td>2019</td>\n",
       "      <td>6</td>\n",
       "      <td>5</td>\n",
       "      <td>9</td>\n",
       "      <td>45</td>\n",
       "      <td>2022</td>\n",
       "      <td>5</td>\n",
       "      <td>7</td>\n",
       "      <td>9</td>\n",
       "      <td>25</td>\n",
       "      <td>23</td>\n",
       "      <td>40</td>\n",
       "    </tr>\n",
       "  </tbody>\n",
       "</table>\n",
       "</div>"
      ],
      "text/plain": [
       "        Airline Source Destination Route Total_Stops Additional Info  Price  \\\n",
       "9039  Air India  Delhi      Cochin   NaN         NaN         No info   7481   \n",
       "\n",
       "      journey_year  journey_month  journey_day  dep_hour  dep_min  \\\n",
       "9039          2019              6            5         9       45   \n",
       "\n",
       "      arrival_year  arrival_month  arrival_day  arrival_hour  arrival_min  \\\n",
       "9039          2022              5            7             9           25   \n",
       "\n",
       "     duration_hours duration_mins  \n",
       "9039             23            40  "
      ]
     },
     "execution_count": 104,
     "metadata": {},
     "output_type": "execute_result"
    }
   ],
   "source": [
    "#check the instance with NaN\n",
    "df1 = df[df.isna().any(axis=1)]\n",
    "df1"
   ]
  },
  {
   "cell_type": "code",
   "execution_count": 105,
   "metadata": {},
   "outputs": [],
   "source": [
    "#drop the instance with NaN\n",
    "df.dropna(inplace=True)"
   ]
  },
  {
   "cell_type": "code",
   "execution_count": 106,
   "metadata": {},
   "outputs": [],
   "source": [
    "#renaming Additional Info column to be able to access .value_counts()\n",
    "df.rename({'Additional Info': 'additional_info'}, axis=1, inplace=True)"
   ]
  },
  {
   "cell_type": "code",
   "execution_count": 107,
   "metadata": {},
   "outputs": [
    {
     "data": {
      "text/plain": [
       "No info                         8344\n",
       "In-flight meal not included     1982\n",
       "No check-in baggage included     320\n",
       "1 Long layover                    19\n",
       "Change airports                    7\n",
       "Business class                     4\n",
       "No Info                            3\n",
       "1 Short layover                    1\n",
       "Red-eye flight                     1\n",
       "2 Long layover                     1\n",
       "Name: additional_info, dtype: int64"
      ]
     },
     "execution_count": 107,
     "metadata": {},
     "output_type": "execute_result"
    }
   ],
   "source": [
    "#the feature [additional_info] contains 'No info' which counts as nulls \n",
    "df.additional_info.value_counts()\n"
   ]
  },
  {
   "cell_type": "code",
   "execution_count": 108,
   "metadata": {},
   "outputs": [],
   "source": [
    "#since 'No info' represent approximately 76% of the column and it appears to be missing at random, but we're waiting for more info. \n",
    "#meanwhile, we'll keep it but will not include it in the training set\n"
   ]
  },
  {
   "cell_type": "markdown",
   "metadata": {},
   "source": [
    "**'Route' column**"
   ]
  },
  {
   "cell_type": "code",
   "execution_count": 109,
   "metadata": {},
   "outputs": [],
   "source": [
    "#Route contains the name of cities and the number of stops. This info is already given in the Total_Stops and Destination and Source columns\n",
    "#thus, we will drop Route\n",
    "\n",
    "\n",
    "#--- I am commenting this out because I want to do analysis for route 'Hend' \n",
    "\n",
    "# df.drop(['Route'], axis=1, inplace=True)"
   ]
  },
  {
   "cell_type": "markdown",
   "metadata": {},
   "source": [
    "**Check for duplicates**"
   ]
  },
  {
   "cell_type": "code",
   "execution_count": 110,
   "metadata": {},
   "outputs": [
    {
     "data": {
      "text/plain": [
       "False    10462\n",
       "True       220\n",
       "dtype: int64"
      ]
     },
     "execution_count": 110,
     "metadata": {},
     "output_type": "execute_result"
    }
   ],
   "source": [
    "#check for duplicates\n",
    "df.duplicated().value_counts()"
   ]
  },
  {
   "cell_type": "code",
   "execution_count": 111,
   "metadata": {},
   "outputs": [
    {
     "data": {
      "text/html": [
       "<div>\n",
       "<style scoped>\n",
       "    .dataframe tbody tr th:only-of-type {\n",
       "        vertical-align: middle;\n",
       "    }\n",
       "\n",
       "    .dataframe tbody tr th {\n",
       "        vertical-align: top;\n",
       "    }\n",
       "\n",
       "    .dataframe thead th {\n",
       "        text-align: right;\n",
       "    }\n",
       "</style>\n",
       "<table border=\"1\" class=\"dataframe\">\n",
       "  <thead>\n",
       "    <tr style=\"text-align: right;\">\n",
       "      <th></th>\n",
       "      <th>Airline</th>\n",
       "      <th>Source</th>\n",
       "      <th>Destination</th>\n",
       "      <th>Total_Stops</th>\n",
       "      <th>additional_info</th>\n",
       "      <th>Price</th>\n",
       "      <th>journey_year</th>\n",
       "      <th>journey_month</th>\n",
       "      <th>journey_day</th>\n",
       "      <th>dep_hour</th>\n",
       "      <th>dep_min</th>\n",
       "      <th>arrival_year</th>\n",
       "      <th>arrival_month</th>\n",
       "      <th>arrival_day</th>\n",
       "      <th>arrival_hour</th>\n",
       "      <th>arrival_min</th>\n",
       "      <th>duration_hours</th>\n",
       "      <th>duration_mins</th>\n",
       "    </tr>\n",
       "  </thead>\n",
       "  <tbody>\n",
       "    <tr>\n",
       "      <th>683</th>\n",
       "      <td>Jet Airways</td>\n",
       "      <td>Delhi</td>\n",
       "      <td>Cochin</td>\n",
       "      <td>2 stops</td>\n",
       "      <td>No info</td>\n",
       "      <td>13377</td>\n",
       "      <td>2019</td>\n",
       "      <td>1</td>\n",
       "      <td>6</td>\n",
       "      <td>14</td>\n",
       "      <td>35</td>\n",
       "      <td>2022</td>\n",
       "      <td>6</td>\n",
       "      <td>2</td>\n",
       "      <td>4</td>\n",
       "      <td>25</td>\n",
       "      <td>13</td>\n",
       "      <td>50</td>\n",
       "    </tr>\n",
       "    <tr>\n",
       "      <th>1061</th>\n",
       "      <td>Air India</td>\n",
       "      <td>Delhi</td>\n",
       "      <td>Cochin</td>\n",
       "      <td>2 stops</td>\n",
       "      <td>No info</td>\n",
       "      <td>10232</td>\n",
       "      <td>2019</td>\n",
       "      <td>5</td>\n",
       "      <td>21</td>\n",
       "      <td>22</td>\n",
       "      <td>0</td>\n",
       "      <td>2022</td>\n",
       "      <td>5</td>\n",
       "      <td>22</td>\n",
       "      <td>19</td>\n",
       "      <td>15</td>\n",
       "      <td>21</td>\n",
       "      <td>15</td>\n",
       "    </tr>\n",
       "    <tr>\n",
       "      <th>1348</th>\n",
       "      <td>Air India</td>\n",
       "      <td>Delhi</td>\n",
       "      <td>Cochin</td>\n",
       "      <td>2 stops</td>\n",
       "      <td>No info</td>\n",
       "      <td>12393</td>\n",
       "      <td>2019</td>\n",
       "      <td>5</td>\n",
       "      <td>18</td>\n",
       "      <td>17</td>\n",
       "      <td>15</td>\n",
       "      <td>2022</td>\n",
       "      <td>5</td>\n",
       "      <td>19</td>\n",
       "      <td>19</td>\n",
       "      <td>15</td>\n",
       "      <td>26</td>\n",
       "      <td>26h</td>\n",
       "    </tr>\n",
       "    <tr>\n",
       "      <th>1418</th>\n",
       "      <td>Jet Airways</td>\n",
       "      <td>Delhi</td>\n",
       "      <td>Cochin</td>\n",
       "      <td>2 stops</td>\n",
       "      <td>In-flight meal not included</td>\n",
       "      <td>10369</td>\n",
       "      <td>2019</td>\n",
       "      <td>6</td>\n",
       "      <td>6</td>\n",
       "      <td>5</td>\n",
       "      <td>30</td>\n",
       "      <td>2022</td>\n",
       "      <td>6</td>\n",
       "      <td>7</td>\n",
       "      <td>4</td>\n",
       "      <td>25</td>\n",
       "      <td>22</td>\n",
       "      <td>55</td>\n",
       "    </tr>\n",
       "    <tr>\n",
       "      <th>1674</th>\n",
       "      <td>IndiGo</td>\n",
       "      <td>Banglore</td>\n",
       "      <td>New Delhi</td>\n",
       "      <td>non-stop</td>\n",
       "      <td>No info</td>\n",
       "      <td>7304</td>\n",
       "      <td>2019</td>\n",
       "      <td>3</td>\n",
       "      <td>24</td>\n",
       "      <td>18</td>\n",
       "      <td>25</td>\n",
       "      <td>2022</td>\n",
       "      <td>2</td>\n",
       "      <td>15</td>\n",
       "      <td>21</td>\n",
       "      <td>20</td>\n",
       "      <td>2</td>\n",
       "      <td>55</td>\n",
       "    </tr>\n",
       "    <tr>\n",
       "      <th>...</th>\n",
       "      <td>...</td>\n",
       "      <td>...</td>\n",
       "      <td>...</td>\n",
       "      <td>...</td>\n",
       "      <td>...</td>\n",
       "      <td>...</td>\n",
       "      <td>...</td>\n",
       "      <td>...</td>\n",
       "      <td>...</td>\n",
       "      <td>...</td>\n",
       "      <td>...</td>\n",
       "      <td>...</td>\n",
       "      <td>...</td>\n",
       "      <td>...</td>\n",
       "      <td>...</td>\n",
       "      <td>...</td>\n",
       "      <td>...</td>\n",
       "      <td>...</td>\n",
       "    </tr>\n",
       "    <tr>\n",
       "      <th>10594</th>\n",
       "      <td>Jet Airways</td>\n",
       "      <td>Delhi</td>\n",
       "      <td>Cochin</td>\n",
       "      <td>2 stops</td>\n",
       "      <td>No info</td>\n",
       "      <td>12820</td>\n",
       "      <td>2019</td>\n",
       "      <td>6</td>\n",
       "      <td>27</td>\n",
       "      <td>23</td>\n",
       "      <td>5</td>\n",
       "      <td>2022</td>\n",
       "      <td>6</td>\n",
       "      <td>28</td>\n",
       "      <td>12</td>\n",
       "      <td>35</td>\n",
       "      <td>13</td>\n",
       "      <td>30</td>\n",
       "    </tr>\n",
       "    <tr>\n",
       "      <th>10616</th>\n",
       "      <td>Jet Airways</td>\n",
       "      <td>Delhi</td>\n",
       "      <td>Cochin</td>\n",
       "      <td>2 stops</td>\n",
       "      <td>No info</td>\n",
       "      <td>13015</td>\n",
       "      <td>2019</td>\n",
       "      <td>1</td>\n",
       "      <td>6</td>\n",
       "      <td>9</td>\n",
       "      <td>40</td>\n",
       "      <td>2022</td>\n",
       "      <td>6</td>\n",
       "      <td>2</td>\n",
       "      <td>12</td>\n",
       "      <td>35</td>\n",
       "      <td>26</td>\n",
       "      <td>55</td>\n",
       "    </tr>\n",
       "    <tr>\n",
       "      <th>10634</th>\n",
       "      <td>Jet Airways</td>\n",
       "      <td>Delhi</td>\n",
       "      <td>Cochin</td>\n",
       "      <td>2 stops</td>\n",
       "      <td>In-flight meal not included</td>\n",
       "      <td>11734</td>\n",
       "      <td>2019</td>\n",
       "      <td>6</td>\n",
       "      <td>6</td>\n",
       "      <td>9</td>\n",
       "      <td>40</td>\n",
       "      <td>2022</td>\n",
       "      <td>6</td>\n",
       "      <td>7</td>\n",
       "      <td>12</td>\n",
       "      <td>35</td>\n",
       "      <td>26</td>\n",
       "      <td>55</td>\n",
       "    </tr>\n",
       "    <tr>\n",
       "      <th>10672</th>\n",
       "      <td>Jet Airways</td>\n",
       "      <td>Delhi</td>\n",
       "      <td>Cochin</td>\n",
       "      <td>2 stops</td>\n",
       "      <td>In-flight meal not included</td>\n",
       "      <td>11151</td>\n",
       "      <td>2019</td>\n",
       "      <td>6</td>\n",
       "      <td>27</td>\n",
       "      <td>23</td>\n",
       "      <td>5</td>\n",
       "      <td>2022</td>\n",
       "      <td>6</td>\n",
       "      <td>28</td>\n",
       "      <td>19</td>\n",
       "      <td>0</td>\n",
       "      <td>19</td>\n",
       "      <td>55</td>\n",
       "    </tr>\n",
       "    <tr>\n",
       "      <th>10673</th>\n",
       "      <td>Jet Airways</td>\n",
       "      <td>Delhi</td>\n",
       "      <td>Cochin</td>\n",
       "      <td>2 stops</td>\n",
       "      <td>No info</td>\n",
       "      <td>16705</td>\n",
       "      <td>2019</td>\n",
       "      <td>5</td>\n",
       "      <td>27</td>\n",
       "      <td>13</td>\n",
       "      <td>25</td>\n",
       "      <td>2022</td>\n",
       "      <td>5</td>\n",
       "      <td>28</td>\n",
       "      <td>4</td>\n",
       "      <td>25</td>\n",
       "      <td>15</td>\n",
       "      <td>15h</td>\n",
       "    </tr>\n",
       "  </tbody>\n",
       "</table>\n",
       "<p>220 rows × 18 columns</p>\n",
       "</div>"
      ],
      "text/plain": [
       "           Airline    Source Destination Total_Stops  \\\n",
       "683    Jet Airways     Delhi      Cochin     2 stops   \n",
       "1061     Air India     Delhi      Cochin     2 stops   \n",
       "1348     Air India     Delhi      Cochin     2 stops   \n",
       "1418   Jet Airways     Delhi      Cochin     2 stops   \n",
       "1674        IndiGo  Banglore   New Delhi    non-stop   \n",
       "...            ...       ...         ...         ...   \n",
       "10594  Jet Airways     Delhi      Cochin     2 stops   \n",
       "10616  Jet Airways     Delhi      Cochin     2 stops   \n",
       "10634  Jet Airways     Delhi      Cochin     2 stops   \n",
       "10672  Jet Airways     Delhi      Cochin     2 stops   \n",
       "10673  Jet Airways     Delhi      Cochin     2 stops   \n",
       "\n",
       "                   additional_info  Price  journey_year  journey_month  \\\n",
       "683                        No info  13377          2019              1   \n",
       "1061                       No info  10232          2019              5   \n",
       "1348                       No info  12393          2019              5   \n",
       "1418   In-flight meal not included  10369          2019              6   \n",
       "1674                       No info   7304          2019              3   \n",
       "...                            ...    ...           ...            ...   \n",
       "10594                      No info  12820          2019              6   \n",
       "10616                      No info  13015          2019              1   \n",
       "10634  In-flight meal not included  11734          2019              6   \n",
       "10672  In-flight meal not included  11151          2019              6   \n",
       "10673                      No info  16705          2019              5   \n",
       "\n",
       "       journey_day  dep_hour  dep_min  arrival_year  arrival_month  \\\n",
       "683              6        14       35          2022              6   \n",
       "1061            21        22        0          2022              5   \n",
       "1348            18        17       15          2022              5   \n",
       "1418             6         5       30          2022              6   \n",
       "1674            24        18       25          2022              2   \n",
       "...            ...       ...      ...           ...            ...   \n",
       "10594           27        23        5          2022              6   \n",
       "10616            6         9       40          2022              6   \n",
       "10634            6         9       40          2022              6   \n",
       "10672           27        23        5          2022              6   \n",
       "10673           27        13       25          2022              5   \n",
       "\n",
       "       arrival_day  arrival_hour  arrival_min duration_hours duration_mins  \n",
       "683              2             4           25             13            50  \n",
       "1061            22            19           15             21            15  \n",
       "1348            19            19           15             26           26h  \n",
       "1418             7             4           25             22            55  \n",
       "1674            15            21           20              2            55  \n",
       "...            ...           ...          ...            ...           ...  \n",
       "10594           28            12           35             13            30  \n",
       "10616            2            12           35             26            55  \n",
       "10634            7            12           35             26            55  \n",
       "10672           28            19            0             19            55  \n",
       "10673           28             4           25             15           15h  \n",
       "\n",
       "[220 rows x 18 columns]"
      ]
     },
     "execution_count": 111,
     "metadata": {},
     "output_type": "execute_result"
    }
   ],
   "source": [
    "#view duplicated rows\n",
    "df[df.duplicated()]"
   ]
  },
  {
   "cell_type": "code",
   "execution_count": 112,
   "metadata": {},
   "outputs": [],
   "source": [
    "#drop duplicated rows\n",
    "df.drop_duplicates(keep='first',inplace=True)"
   ]
  },
  {
   "cell_type": "markdown",
   "metadata": {},
   "source": [
    "**Feature Engineering**"
   ]
  },
  {
   "cell_type": "markdown",
   "metadata": {},
   "source": [
    "Define a function to return arrival and departure hours as parts of the day"
   ]
  },
  {
   "cell_type": "code",
   "execution_count": 113,
   "metadata": {},
   "outputs": [],
   "source": [
    "#define hours of the day\n",
    "def ptday(x):\n",
    "    if x>=00 and x<=4:\n",
    "        return 'late night'\n",
    "    elif x>4 and x<=8:\n",
    "        return 'early morning'\n",
    "    elif x>8 and x<=12:\n",
    "        return 'morning'\n",
    "    elif x>12 and x<=16:\n",
    "        return 'After noon'\n",
    "    elif x>16 and x<=20:\n",
    "        return'evening'\n",
    "    elif x>20 and x<=23:\n",
    "        return 'night'"
   ]
  },
  {
   "cell_type": "code",
   "execution_count": 114,
   "metadata": {},
   "outputs": [],
   "source": [
    "#apply the function to arrival hours and departure hours\n",
    "df['arrival_time']=df['arrival_hour'].apply(ptday)\n",
    "df['departure_time']=df['dep_hour'].apply(ptday)"
   ]
  },
  {
   "cell_type": "code",
   "execution_count": 115,
   "metadata": {},
   "outputs": [
    {
     "data": {
      "text/html": [
       "<div>\n",
       "<style scoped>\n",
       "    .dataframe tbody tr th:only-of-type {\n",
       "        vertical-align: middle;\n",
       "    }\n",
       "\n",
       "    .dataframe tbody tr th {\n",
       "        vertical-align: top;\n",
       "    }\n",
       "\n",
       "    .dataframe thead th {\n",
       "        text-align: right;\n",
       "    }\n",
       "</style>\n",
       "<table border=\"1\" class=\"dataframe\">\n",
       "  <thead>\n",
       "    <tr style=\"text-align: right;\">\n",
       "      <th></th>\n",
       "      <th>Airline</th>\n",
       "      <th>Source</th>\n",
       "      <th>Destination</th>\n",
       "      <th>Total_Stops</th>\n",
       "      <th>additional_info</th>\n",
       "      <th>Price</th>\n",
       "      <th>journey_year</th>\n",
       "      <th>journey_month</th>\n",
       "      <th>journey_day</th>\n",
       "      <th>dep_hour</th>\n",
       "      <th>dep_min</th>\n",
       "      <th>arrival_year</th>\n",
       "      <th>arrival_month</th>\n",
       "      <th>arrival_day</th>\n",
       "      <th>arrival_hour</th>\n",
       "      <th>arrival_min</th>\n",
       "      <th>duration_hours</th>\n",
       "      <th>duration_mins</th>\n",
       "      <th>arrival_time</th>\n",
       "      <th>departure_time</th>\n",
       "    </tr>\n",
       "  </thead>\n",
       "  <tbody>\n",
       "    <tr>\n",
       "      <th>8044</th>\n",
       "      <td>IndiGo</td>\n",
       "      <td>Kolkata</td>\n",
       "      <td>Banglore</td>\n",
       "      <td>non-stop</td>\n",
       "      <td>No info</td>\n",
       "      <td>4463</td>\n",
       "      <td>2019</td>\n",
       "      <td>3</td>\n",
       "      <td>18</td>\n",
       "      <td>15</td>\n",
       "      <td>10</td>\n",
       "      <td>2022</td>\n",
       "      <td>2</td>\n",
       "      <td>15</td>\n",
       "      <td>17</td>\n",
       "      <td>45</td>\n",
       "      <td>2</td>\n",
       "      <td>35</td>\n",
       "      <td>evening</td>\n",
       "      <td>After noon</td>\n",
       "    </tr>\n",
       "    <tr>\n",
       "      <th>2505</th>\n",
       "      <td>Air India</td>\n",
       "      <td>Delhi</td>\n",
       "      <td>Cochin</td>\n",
       "      <td>1 stop</td>\n",
       "      <td>No info</td>\n",
       "      <td>8373</td>\n",
       "      <td>2019</td>\n",
       "      <td>12</td>\n",
       "      <td>6</td>\n",
       "      <td>21</td>\n",
       "      <td>0</td>\n",
       "      <td>2022</td>\n",
       "      <td>6</td>\n",
       "      <td>13</td>\n",
       "      <td>7</td>\n",
       "      <td>40</td>\n",
       "      <td>10</td>\n",
       "      <td>40</td>\n",
       "      <td>early morning</td>\n",
       "      <td>night</td>\n",
       "    </tr>\n",
       "  </tbody>\n",
       "</table>\n",
       "</div>"
      ],
      "text/plain": [
       "        Airline   Source Destination Total_Stops additional_info  Price  \\\n",
       "8044     IndiGo  Kolkata    Banglore    non-stop         No info   4463   \n",
       "2505  Air India    Delhi      Cochin      1 stop         No info   8373   \n",
       "\n",
       "      journey_year  journey_month  journey_day  dep_hour  dep_min  \\\n",
       "8044          2019              3           18        15       10   \n",
       "2505          2019             12            6        21        0   \n",
       "\n",
       "      arrival_year  arrival_month  arrival_day  arrival_hour  arrival_min  \\\n",
       "8044          2022              2           15            17           45   \n",
       "2505          2022              6           13             7           40   \n",
       "\n",
       "     duration_hours duration_mins   arrival_time departure_time  \n",
       "8044              2            35        evening     After noon  \n",
       "2505             10            40  early morning          night  "
      ]
     },
     "execution_count": 115,
     "metadata": {},
     "output_type": "execute_result"
    }
   ],
   "source": [
    "df.sample(2)"
   ]
  },
  {
   "cell_type": "code",
   "execution_count": 116,
   "metadata": {},
   "outputs": [
    {
     "data": {
      "text/plain": [
       "Index(['Airline', 'Source', 'Destination', 'Total_Stops', 'additional_info',\n",
       "       'Price', 'journey_year', 'journey_month', 'journey_day', 'dep_hour',\n",
       "       'dep_min', 'arrival_year', 'arrival_month', 'arrival_day',\n",
       "       'arrival_hour', 'arrival_min', 'duration_hours', 'duration_mins',\n",
       "       'arrival_time', 'departure_time'],\n",
       "      dtype='object')"
      ]
     },
     "execution_count": 116,
     "metadata": {},
     "output_type": "execute_result"
    }
   ],
   "source": [
    "df.columns"
   ]
  },
  {
   "cell_type": "markdown",
   "metadata": {},
   "source": [
    "**Renaming columns**"
   ]
  },
  {
   "cell_type": "code",
   "execution_count": 117,
   "metadata": {},
   "outputs": [],
   "source": [
    "df.rename(columns={'Airline': \"airline\", 'Source':'embarked', 'Destination':'destination','Price':'price','Total_Stops':'stops'}, inplace=True)"
   ]
  },
  {
   "cell_type": "markdown",
   "metadata": {},
   "source": [
    "**Rearranging columns**"
   ]
  },
  {
   "cell_type": "code",
   "execution_count": 118,
   "metadata": {},
   "outputs": [],
   "source": [
    "df = df[['airline','embarked', 'destination', 'stops','journey_year', 'journey_month', 'journey_day','dep_hour', 'dep_min', 'departure_time', 'arrival_year','arrival_month','arrival_day','arrival_hour', 'arrival_min', 'arrival_time', 'price', 'additional_info']]"
   ]
  },
  {
>>>>>>> 2d37f61095f8fb9cfe8f44bba265d429c219add6
   "cell_type": "markdown",
   "metadata": {},
   "source": [
    "# Data Viz"
   ]
  },
  {
   "cell_type": "code",
   "execution_count": 83,
   "metadata": {},
   "outputs": [],
   "source": [
    "df = pd.read_csv('/Users/ksah4444/Documents/Group_Project/flights_analysis/data_cleaning/df_cleaned.csv')"
   ]
  },
  {
   "cell_type": "code",
   "execution_count": 17,
   "metadata": {},
   "outputs": [
    {
     "data": {
      "text/html": [
       "<div>\n",
       "<style scoped>\n",
       "    .dataframe tbody tr th:only-of-type {\n",
       "        vertical-align: middle;\n",
       "    }\n",
       "\n",
       "    .dataframe tbody tr th {\n",
       "        vertical-align: top;\n",
       "    }\n",
       "\n",
       "    .dataframe thead th {\n",
       "        text-align: right;\n",
       "    }\n",
       "</style>\n",
       "<table border=\"1\" class=\"dataframe\">\n",
       "  <thead>\n",
       "    <tr style=\"text-align: right;\">\n",
       "      <th></th>\n",
       "      <th>Unnamed: 0</th>\n",
       "      <th>airline</th>\n",
       "      <th>embarked</th>\n",
       "      <th>destination</th>\n",
       "      <th>stops</th>\n",
       "      <th>journey_year</th>\n",
       "      <th>journey_month</th>\n",
       "      <th>journey_day</th>\n",
       "      <th>dep_hour</th>\n",
       "      <th>dep_min</th>\n",
       "      <th>departure_time</th>\n",
       "      <th>arrival_year</th>\n",
       "      <th>arrival_month</th>\n",
       "      <th>arrival_day</th>\n",
       "      <th>arrival_hour</th>\n",
       "      <th>arrival_min</th>\n",
       "      <th>arrival_time</th>\n",
       "      <th>price</th>\n",
       "      <th>additional_info</th>\n",
       "    </tr>\n",
       "  </thead>\n",
       "  <tbody>\n",
       "    <tr>\n",
       "      <th>0</th>\n",
       "      <td>0</td>\n",
       "      <td>IndiGo</td>\n",
       "      <td>Banglore</td>\n",
       "      <td>New Delhi</td>\n",
       "      <td>non-stop</td>\n",
       "      <td>2019</td>\n",
       "      <td>3</td>\n",
       "      <td>24</td>\n",
       "      <td>22</td>\n",
       "      <td>20</td>\n",
       "      <td>night</td>\n",
       "      <td>2022</td>\n",
       "      <td>3</td>\n",
       "      <td>22</td>\n",
       "      <td>1</td>\n",
       "      <td>10</td>\n",
       "      <td>late night</td>\n",
       "      <td>3898</td>\n",
       "      <td>No info</td>\n",
       "    </tr>\n",
       "    <tr>\n",
       "      <th>1</th>\n",
       "      <td>1</td>\n",
       "      <td>Air India</td>\n",
       "      <td>Kolkata</td>\n",
       "      <td>Banglore</td>\n",
       "      <td>2 stops</td>\n",
       "      <td>2019</td>\n",
       "      <td>1</td>\n",
       "      <td>5</td>\n",
       "      <td>5</td>\n",
       "      <td>50</td>\n",
       "      <td>early morning</td>\n",
       "      <td>2022</td>\n",
       "      <td>2</td>\n",
       "      <td>16</td>\n",
       "      <td>13</td>\n",
       "      <td>15</td>\n",
       "      <td>After noon</td>\n",
       "      <td>7663</td>\n",
       "      <td>No info</td>\n",
       "    </tr>\n",
       "    <tr>\n",
       "      <th>2</th>\n",
       "      <td>2</td>\n",
       "      <td>Jet Airways</td>\n",
       "      <td>Delhi</td>\n",
       "      <td>Cochin</td>\n",
       "      <td>2 stops</td>\n",
       "      <td>2019</td>\n",
       "      <td>9</td>\n",
       "      <td>6</td>\n",
       "      <td>9</td>\n",
       "      <td>25</td>\n",
       "      <td>morning</td>\n",
       "      <td>2022</td>\n",
       "      <td>6</td>\n",
       "      <td>10</td>\n",
       "      <td>4</td>\n",
       "      <td>25</td>\n",
       "      <td>late night</td>\n",
       "      <td>13883</td>\n",
       "      <td>No info</td>\n",
       "    </tr>\n",
       "    <tr>\n",
       "      <th>3</th>\n",
       "      <td>3</td>\n",
       "      <td>IndiGo</td>\n",
       "      <td>Kolkata</td>\n",
       "      <td>Banglore</td>\n",
       "      <td>1 stop</td>\n",
       "      <td>2019</td>\n",
       "      <td>12</td>\n",
       "      <td>5</td>\n",
       "      <td>18</td>\n",
       "      <td>5</td>\n",
       "      <td>evening</td>\n",
       "      <td>2022</td>\n",
       "      <td>2</td>\n",
       "      <td>16</td>\n",
       "      <td>23</td>\n",
       "      <td>30</td>\n",
       "      <td>night</td>\n",
       "      <td>6219</td>\n",
       "      <td>No info</td>\n",
       "    </tr>\n",
       "    <tr>\n",
       "      <th>4</th>\n",
       "      <td>4</td>\n",
       "      <td>IndiGo</td>\n",
       "      <td>Banglore</td>\n",
       "      <td>New Delhi</td>\n",
       "      <td>1 stop</td>\n",
       "      <td>2019</td>\n",
       "      <td>1</td>\n",
       "      <td>3</td>\n",
       "      <td>16</td>\n",
       "      <td>50</td>\n",
       "      <td>After noon</td>\n",
       "      <td>2022</td>\n",
       "      <td>2</td>\n",
       "      <td>16</td>\n",
       "      <td>21</td>\n",
       "      <td>35</td>\n",
       "      <td>night</td>\n",
       "      <td>13303</td>\n",
       "      <td>No info</td>\n",
       "    </tr>\n",
       "    <tr>\n",
       "      <th>5</th>\n",
       "      <td>5</td>\n",
       "      <td>SpiceJet</td>\n",
       "      <td>Kolkata</td>\n",
       "      <td>Banglore</td>\n",
       "      <td>non-stop</td>\n",
       "      <td>2019</td>\n",
       "      <td>6</td>\n",
       "      <td>24</td>\n",
       "      <td>9</td>\n",
       "      <td>0</td>\n",
       "      <td>morning</td>\n",
       "      <td>2022</td>\n",
       "      <td>2</td>\n",
       "      <td>16</td>\n",
       "      <td>11</td>\n",
       "      <td>25</td>\n",
       "      <td>morning</td>\n",
       "      <td>3874</td>\n",
       "      <td>No info</td>\n",
       "    </tr>\n",
       "    <tr>\n",
       "      <th>6</th>\n",
       "      <td>6</td>\n",
       "      <td>Jet Airways</td>\n",
       "      <td>Banglore</td>\n",
       "      <td>New Delhi</td>\n",
       "      <td>1 stop</td>\n",
       "      <td>2019</td>\n",
       "      <td>12</td>\n",
       "      <td>3</td>\n",
       "      <td>18</td>\n",
       "      <td>55</td>\n",
       "      <td>evening</td>\n",
       "      <td>2022</td>\n",
       "      <td>3</td>\n",
       "      <td>13</td>\n",
       "      <td>10</td>\n",
       "      <td>25</td>\n",
       "      <td>morning</td>\n",
       "      <td>11088</td>\n",
       "      <td>In-flight meal not included</td>\n",
       "    </tr>\n",
       "    <tr>\n",
       "      <th>7</th>\n",
       "      <td>7</td>\n",
       "      <td>Jet Airways</td>\n",
       "      <td>Banglore</td>\n",
       "      <td>New Delhi</td>\n",
       "      <td>1 stop</td>\n",
       "      <td>2019</td>\n",
       "      <td>1</td>\n",
       "      <td>3</td>\n",
       "      <td>8</td>\n",
       "      <td>0</td>\n",
       "      <td>early morning</td>\n",
       "      <td>2022</td>\n",
       "      <td>3</td>\n",
       "      <td>2</td>\n",
       "      <td>5</td>\n",
       "      <td>5</td>\n",
       "      <td>early morning</td>\n",
       "      <td>22271</td>\n",
       "      <td>No info</td>\n",
       "    </tr>\n",
       "    <tr>\n",
       "      <th>8</th>\n",
       "      <td>8</td>\n",
       "      <td>Jet Airways</td>\n",
       "      <td>Banglore</td>\n",
       "      <td>New Delhi</td>\n",
       "      <td>1 stop</td>\n",
       "      <td>2019</td>\n",
       "      <td>12</td>\n",
       "      <td>3</td>\n",
       "      <td>8</td>\n",
       "      <td>55</td>\n",
       "      <td>early morning</td>\n",
       "      <td>2022</td>\n",
       "      <td>3</td>\n",
       "      <td>13</td>\n",
       "      <td>10</td>\n",
       "      <td>25</td>\n",
       "      <td>morning</td>\n",
       "      <td>11088</td>\n",
       "      <td>In-flight meal not included</td>\n",
       "    </tr>\n",
       "    <tr>\n",
       "      <th>9</th>\n",
       "      <td>9</td>\n",
       "      <td>Multiple carriers</td>\n",
       "      <td>Delhi</td>\n",
       "      <td>Cochin</td>\n",
       "      <td>1 stop</td>\n",
       "      <td>2019</td>\n",
       "      <td>5</td>\n",
       "      <td>27</td>\n",
       "      <td>11</td>\n",
       "      <td>25</td>\n",
       "      <td>morning</td>\n",
       "      <td>2022</td>\n",
       "      <td>2</td>\n",
       "      <td>16</td>\n",
       "      <td>19</td>\n",
       "      <td>15</td>\n",
       "      <td>evening</td>\n",
       "      <td>8626</td>\n",
       "      <td>No info</td>\n",
       "    </tr>\n",
       "  </tbody>\n",
       "</table>\n",
       "</div>"
      ],
      "text/plain": [
       "   Unnamed: 0            airline  embarked destination     stops  \\\n",
       "0           0             IndiGo  Banglore   New Delhi  non-stop   \n",
       "1           1          Air India   Kolkata    Banglore   2 stops   \n",
       "2           2        Jet Airways     Delhi      Cochin   2 stops   \n",
       "3           3             IndiGo   Kolkata    Banglore    1 stop   \n",
       "4           4             IndiGo  Banglore   New Delhi    1 stop   \n",
       "5           5           SpiceJet   Kolkata    Banglore  non-stop   \n",
       "6           6        Jet Airways  Banglore   New Delhi    1 stop   \n",
       "7           7        Jet Airways  Banglore   New Delhi    1 stop   \n",
       "8           8        Jet Airways  Banglore   New Delhi    1 stop   \n",
       "9           9  Multiple carriers     Delhi      Cochin    1 stop   \n",
       "\n",
       "   journey_year  journey_month  journey_day  dep_hour  dep_min departure_time  \\\n",
       "0          2019              3           24        22       20          night   \n",
       "1          2019              1            5         5       50  early morning   \n",
       "2          2019              9            6         9       25        morning   \n",
       "3          2019             12            5        18        5        evening   \n",
       "4          2019              1            3        16       50     After noon   \n",
       "5          2019              6           24         9        0        morning   \n",
       "6          2019             12            3        18       55        evening   \n",
       "7          2019              1            3         8        0  early morning   \n",
       "8          2019             12            3         8       55  early morning   \n",
       "9          2019              5           27        11       25        morning   \n",
       "\n",
       "   arrival_year  arrival_month  arrival_day  arrival_hour  arrival_min  \\\n",
       "0          2022              3           22             1           10   \n",
       "1          2022              2           16            13           15   \n",
       "2          2022              6           10             4           25   \n",
       "3          2022              2           16            23           30   \n",
       "4          2022              2           16            21           35   \n",
       "5          2022              2           16            11           25   \n",
       "6          2022              3           13            10           25   \n",
       "7          2022              3            2             5            5   \n",
       "8          2022              3           13            10           25   \n",
       "9          2022              2           16            19           15   \n",
       "\n",
       "    arrival_time  price              additional_info  \n",
       "0     late night   3898                      No info  \n",
       "1     After noon   7663                      No info  \n",
       "2     late night  13883                      No info  \n",
       "3          night   6219                      No info  \n",
       "4          night  13303                      No info  \n",
       "5        morning   3874                      No info  \n",
       "6        morning  11088  In-flight meal not included  \n",
       "7  early morning  22271                      No info  \n",
       "8        morning  11088  In-flight meal not included  \n",
       "9        evening   8626                      No info  "
      ]
     },
     "execution_count": 17,
     "metadata": {},
     "output_type": "execute_result"
    }
   ],
   "source": [
    "df.head(10)"
   ]
  },
  {
   "cell_type": "code",
   "execution_count": 4,
   "metadata": {},
   "outputs": [
    {
     "data": {
      "text/plain": [
       "(10462, 19)"
      ]
     },
     "execution_count": 4,
     "metadata": {},
     "output_type": "execute_result"
    }
   ],
   "source": [
    "# Making Sure the data is still intact\n",
    "df.shape"
   ]
  },
  {
   "cell_type": "code",
   "execution_count": 84,
   "metadata": {},
   "outputs": [
    {
     "data": {
      "text/plain": [
       "Jet Airways                          3700\n",
       "IndiGo                               2043\n",
       "Air India                            1694\n",
       "Multiple carriers                    1196\n",
       "SpiceJet                              815\n",
       "Vistara                               478\n",
       "Air Asia                              319\n",
       "GoAir                                 194\n",
       "Multiple carriers Premium economy      13\n",
       "Jet Airways Business                    6\n",
       "Vistara Premium economy                 3\n",
       "Trujet                                  1\n",
       "Name: airline, dtype: int64"
      ]
     },
     "execution_count": 84,
     "metadata": {},
     "output_type": "execute_result"
    }
   ],
   "source": [
    "# Getting a look at the airlines, to see if some airline is over repsented which could lead to bias\n",
    "df.airline.value_counts()"
   ]
  },
  {
   "cell_type": "code",
<<<<<<< HEAD
   "execution_count": 118,
   "metadata": {},
   "outputs": [
    {
     "name": "stderr",
     "output_type": "stream",
     "text": [
      "/Library/Frameworks/Python.framework/Versions/3.10/lib/python3.10/site-packages/seaborn/_decorators.py:36: FutureWarning: Pass the following variables as keyword args: x, y. From version 0.12, the only valid positional argument will be `data`, and passing other arguments without an explicit keyword will result in an error or misinterpretation.\n",
      "  warnings.warn(\n"
     ]
    },
    {
     "data": {
      "image/png": "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",
      "text/plain": [
       "<Figure size 2520x720 with 1 Axes>"
      ]
     },
     "metadata": {
      "needs_background": "light"
     },
     "output_type": "display_data"
    }
   ],
   "source": [
    "# Check the number of flights per airline\n",
    "NL  = df['airline'].value_counts()\n",
    "NL = NL[:12,]\n",
    "plt.figure(figsize=(35,10))\n",
    "sns.barplot(NL.index, NL.values, alpha=0.8)\n",
    "plt.title('Flights Per Airline')\n",
    "plt.ylabel('Number of Flights', fontsize=12)\n",
    "plt.xlabel('Airline', fontsize=20)\n",
    "#ax.set_xlim(-1,150)\n",
    "plt.show()"
=======
   "execution_count": null,
   "metadata": {},
   "outputs": [],
   "source": [
    "# Visualize what did\n",
    "AL  = df['airline'].value_counts()\n",
    "AL = AL[:9,]\n",
    "fig = plt.figure()\n",
    "ax = fig.add_axes([0,0,1,1])\n",
    "ax.bar(AL.index,AL.values)\n",
    "# plt.show()"
>>>>>>> 2d37f61095f8fb9cfe8f44bba265d429c219add6
   ]
  },
  {
   "cell_type": "code",
<<<<<<< HEAD
   "execution_count": 15,
   "metadata": {},
   "outputs": [
    {
     "data": {
      "text/plain": [
       "airline\n",
       "Air Asia                              5591.260188\n",
       "Air India                             9557.608028\n",
       "GoAir                                 5862.056701\n",
       "IndiGo                                5669.469897\n",
       "Jet Airways                          11600.021081\n",
       "Jet Airways Business                 58359.666667\n",
       "Multiple carriers                    10903.678094\n",
       "Multiple carriers Premium economy    11419.846154\n",
       "SpiceJet                              4336.841718\n",
       "Trujet                                4141.000000\n",
       "Vistara                               7802.355649\n",
       "Vistara Premium economy               8963.333333\n",
       "Name: price, dtype: float64"
      ]
     },
     "execution_count": 15,
     "metadata": {},
     "output_type": "execute_result"
    }
   ],
   "source": [
    "# Initially, the first feature to look at is price \n",
    "df.groupby(['airline'])['price'].mean()"
   ]
  },
  {
   "cell_type": "code",
   "execution_count": 119,
   "metadata": {},
   "outputs": [
    {
     "name": "stderr",
     "output_type": "stream",
     "text": [
      "/Library/Frameworks/Python.framework/Versions/3.10/lib/python3.10/site-packages/seaborn/_decorators.py:36: FutureWarning: Pass the following variables as keyword args: x, y. From version 0.12, the only valid positional argument will be `data`, and passing other arguments without an explicit keyword will result in an error or misinterpretation.\n",
      "  warnings.warn(\n"
     ]
    },
    {
     "data": {
      "image/png": "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",
      "text/plain": [
       "<Figure size 2520x720 with 1 Axes>"
      ]
     },
     "metadata": {
      "needs_background": "light"
     },
     "output_type": "display_data"
    }
   ],
   "source": [
    "# What are the most and least expensive flights?\n",
    "PL  = df.groupby(['airline'])['price'].mean()\n",
    "PL = PL[:12,]\n",
    "plt.figure(figsize=(35,10))\n",
    "sns.barplot(PL.index, PL.values, alpha=0.8)\n",
    "plt.title('Airline Prices')\n",
    "plt.ylabel('Prices (₹)', fontsize=12)\n",
    "plt.xlabel('Airline Company', fontsize=20)\n",
    "plt.show()"
   ]
  },
  {
   "cell_type": "code",
   "execution_count": 19,
   "metadata": {},
   "outputs": [
    {
     "data": {
      "text/plain": [
       "2019    10462\n",
       "Name: journey_year, dtype: int64"
      ]
     },
     "execution_count": 19,
     "metadata": {},
     "output_type": "execute_result"
    }
   ],
   "source": [
    "# Now I want to take a look at how holidays influence the price\n",
    "# First, Since India's is using the \"Saka Era\" calender we need what years are in this data\n",
    "df['journey_year'].value_counts()\n",
    "# Good it's only in 2019, so need to convert it from georgian to \"Saka Era\""
   ]
  },
  {
   "cell_type": "code",
   "execution_count": null,
   "metadata": {},
   "outputs": [],
   "source": [
    "# A list of India's top holidays in 2019\n",
    "## Eid = Tuesday, 4 June\n",
    "## Holi = Thursday, 21 March\n",
    "## Diwali = Sunday, 27 October\n",
    "### Durga Puja = Friday, 4 October - Tuesday, 8 October\n",
    "## Maha Shivaratri = Monday, 4 March\n",
    "### Ganesh Chaturthi = Monday, 2 September\n",
    "## Gandhi's Birthday = Wednesday, October 2\n",
    "### India Republic = Saturday, 26 January\n",
    "## Indian Independence Day = Thursday, 15 August\n",
    "### Onam = Sunday, 1 September - Friday, 13 September\n",
    "### Pushkar Camel Fair  = Tuesday, 5 November – Tuesday, 12 November"
   ]
  },
  {
   "cell_type": "code",
   "execution_count": 87,
   "metadata": {},
   "outputs": [
    {
     "data": {
      "text/plain": [
       "stops\n",
       "1 stop      10595.123556\n",
       "2 stops     12762.099393\n",
       "3 stops     13261.674419\n",
       "4 stops     17687.000000\n",
       "non-stop     5019.506763\n",
       "Name: price, dtype: float64"
      ]
     },
     "execution_count": 87,
     "metadata": {},
     "output_type": "execute_result"
    }
   ],
   "source": [
    "# Let's see if the number of stops has an effect\n",
    "df.groupby(['stops'])['price'].mean()"
   ]
  },
  {
   "cell_type": "code",
   "execution_count": 122,
   "metadata": {},
   "outputs": [
    {
     "name": "stderr",
     "output_type": "stream",
     "text": [
      "/Library/Frameworks/Python.framework/Versions/3.10/lib/python3.10/site-packages/seaborn/_decorators.py:36: FutureWarning: Pass the following variables as keyword args: x, y. From version 0.12, the only valid positional argument will be `data`, and passing other arguments without an explicit keyword will result in an error or misinterpretation.\n",
      "  warnings.warn(\n"
     ]
    },
    {
     "data": {
      "image/png": "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",
      "text/plain": [
       "<Figure size 720x360 with 1 Axes>"
      ]
     },
     "metadata": {
      "needs_background": "light"
     },
     "output_type": "display_data"
    }
   ],
   "source": [
    "# Let's see it in a barplot\n",
    "SL  = df.groupby(['stops'])['price'].mean()\n",
    "SL = SL[:12,]\n",
    "plt.figure(figsize=(10,5))\n",
    "sns.barplot(SL.index, SL.values, alpha=0.8)\n",
    "plt.title('Stops # Effect on Price')\n",
    "plt.ylabel('Prices (₹)', fontsize=12)\n",
    "plt.xlabel('Number of Stops', fontsize=12)\n",
    "plt.show()"
=======
   "execution_count": null,
   "metadata": {},
   "outputs": [],
   "source": [
    "fig = plt.figure(figsize = (10, 5))\n",
    "AL  = df['airline'].value_counts()\n",
    "AL = AL[:9,]\n",
    "# creating the bar plot\n",
    "plt.bar(AL.index, AL.values, color ='maroon',\n",
    "        width = 0.4)\n",
    " \n",
    "plt.xlabel('airline')\n",
    "plt.ylabel('Number of Flights')\n",
    "plt.title('Flights Per Airline')\n",
    "# plt.show()"
>>>>>>> 2d37f61095f8fb9cfe8f44bba265d429c219add6
   ]
  },
  {
   "cell_type": "code",
   "execution_count": 124,
   "metadata": {},
   "outputs": [
    {
     "name": "stderr",
     "output_type": "stream",
     "text": [
      "/Library/Frameworks/Python.framework/Versions/3.10/lib/python3.10/site-packages/seaborn/_decorators.py:36: FutureWarning: Pass the following variables as keyword args: x, y. From version 0.12, the only valid positional argument will be `data`, and passing other arguments without an explicit keyword will result in an error or misinterpretation.\n",
      "  warnings.warn(\n"
     ]
    },
    {
     "data": {
      "image/png": "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",
      "text/plain": [
       "<Figure size 720x360 with 1 Axes>"
      ]
     },
     "metadata": {
      "needs_background": "light"
     },
     "output_type": "display_data"
    }
   ],
   "source": [
    "# What about departure time?\n",
    "TL  = df.groupby(['departure_time'])['price'].mean()\n",
    "TL = TL[:12,]\n",
    "plt.figure(figsize=(10,5))\n",
    "sns.barplot(TL.index, TL.values, alpha=0.8)\n",
    "plt.title('Ticket Prices based on Departure time')\n",
    "plt.ylabel('Prices (₹)', fontsize=12)\n",
    "plt.xlabel('Time of departure', fontsize=12)\n",
    "plt.show()"
   ]
  },
  {
   "cell_type": "code",
   "execution_count": 125,
   "metadata": {},
   "outputs": [
    {
     "name": "stderr",
     "output_type": "stream",
     "text": [
      "/Library/Frameworks/Python.framework/Versions/3.10/lib/python3.10/site-packages/seaborn/_decorators.py:36: FutureWarning: Pass the following variables as keyword args: x, y. From version 0.12, the only valid positional argument will be `data`, and passing other arguments without an explicit keyword will result in an error or misinterpretation.\n",
      "  warnings.warn(\n"
     ]
    },
    {
     "data": {
      "image/png": "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",
      "text/plain": [
       "<Figure size 720x360 with 1 Axes>"
      ]
     },
     "metadata": {
      "needs_background": "light"
     },
     "output_type": "display_data"
    }
   ],
   "source": [
    "# What about the destnation city?\n",
    "CL  = df.groupby(['destination'])['price'].mean()\n",
    "CL = CL[:12,]\n",
    "plt.figure(figsize=(10,5))\n",
    "sns.barplot(CL.index, CL.values, alpha=0.8)\n",
    "plt.title('Arrival City Prices')\n",
    "plt.ylabel('Prices (₹)', fontsize=12)\n",
    "plt.xlabel('City', fontsize=12)\n",
    "plt.show()"
   ]
  },
  {
   "cell_type": "code",
   "execution_count": 127,
   "metadata": {},
   "outputs": [
    {
     "name": "stderr",
     "output_type": "stream",
     "text": [
      "/Library/Frameworks/Python.framework/Versions/3.10/lib/python3.10/site-packages/seaborn/_decorators.py:36: FutureWarning: Pass the following variables as keyword args: x, y. From version 0.12, the only valid positional argument will be `data`, and passing other arguments without an explicit keyword will result in an error or misinterpretation.\n",
      "  warnings.warn(\n"
     ]
    },
    {
     "data": {
      "image/png": "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",
      "text/plain": [
       "<Figure size 720x360 with 1 Axes>"
      ]
     },
     "metadata": {
      "needs_background": "light"
     },
     "output_type": "display_data"
    }
   ],
   "source": [
    "EL  = df.groupby(['embarked'])['price'].mean()\n",
    "EL = EL[:12,]\n",
    "plt.figure(figsize=(10,5))\n",
    "sns.barplot(EL.index, EL.values, alpha=0.8)\n",
    "plt.title('Airline Prices')\n",
    "plt.ylabel('Prices (₹)', fontsize=12)\n",
    "plt.xlabel('Arrival City', fontsize=12)\n",
    "plt.show()"
   ]
  },
  {
   "cell_type": "code",
   "execution_count": 57,
   "metadata": {},
   "outputs": [
    {
     "name": "stdout",
     "output_type": "stream",
     "text": [
      "<class 'pandas.core.frame.DataFrame'>\n",
      "Int64Index: 0 entries\n",
      "Data columns (total 2 columns):\n",
      " #   Column  Non-Null Count  Dtype  \n",
      "---  ------  --------------  -----  \n",
      " 0   Date    0 non-null      object \n",
      " 1   Price   0 non-null      float64\n",
      "dtypes: float64(1), object(1)\n",
      "memory usage: 0.0+ bytes\n"
     ]
    }
   ],
   "source": [
    "# Just missing with oil stuff (Scratch)\n",
    "do = pd.read_csv('/Users/ksah4444/Downloads/BrentOilPrices.csv')\n",
    "do.info()\n",
    "#\n",
    "do['Date'] = do['Date'].astype(str)\n",
    "do.info()\n",
    "#\n",
    "do2 = do1[do1[\"Date\"].str.contains(\"2019\") == False]\n",
    "do2.info()\n",
    "#\n",
    "discard = [\"2019\"]\n",
    "do2 = do1[~do1.Date.str.contains('|'.join(discard))]\n",
    "do2.info()"
   ]
  }
 ],
 "metadata": {
  "interpreter": {
   "hash": "d4d1e4263499bec80672ea0156c357c1ee493ec2b1c70f0acce89fc37c4a6abe"
  },
  "kernelspec": {
   "display_name": "Python 3.8.8 ('base')",
   "language": "python",
   "name": "python3"
  },
  "language_info": {
   "codemirror_mode": {
    "name": "ipython",
    "version": 3
   },
   "file_extension": ".py",
   "mimetype": "text/x-python",
   "name": "python",
   "nbconvert_exporter": "python",
   "pygments_lexer": "ipython3",
   "version": "3.10.1"
  },
  "orig_nbformat": 4
 },
 "nbformat": 4,
 "nbformat_minor": 2
}
